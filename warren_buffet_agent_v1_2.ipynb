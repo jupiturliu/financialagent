{
  "nbformat": 4,
  "nbformat_minor": 0,
  "metadata": {
    "colab": {
      "provenance": [],
      "include_colab_link": true
    },
    "kernelspec": {
      "name": "python3",
      "display_name": "Python 3"
    },
    "language_info": {
      "name": "python"
    }
  },
  "cells": [
    {
      "cell_type": "markdown",
      "metadata": {
        "id": "view-in-github",
        "colab_type": "text"
      },
      "source": [
        "<a href=\"https://colab.research.google.com/github/jupiturliu/financialagent/blob/main/warren_buffet_agent_v1_2.ipynb\" target=\"_parent\"><img src=\"https://colab.research.google.com/assets/colab-badge.svg\" alt=\"Open In Colab\"/></a>"
      ]
    },
    {
      "cell_type": "markdown",
      "source": [
        "**Disclaimer**: This agent is not intended as financial advice.  It is for informational and entertainment purposes only.  Do your own due diligence."
      ],
      "metadata": {
        "id": "1RV4aPVE3ecA"
      }
    },
    {
      "cell_type": "code",
      "execution_count": null,
      "metadata": {
        "id": "GcvSoNAmVbXH"
      },
      "outputs": [],
      "source": [
        "!pip install -U --quiet langgraph langchain_community langchain_anthropic langsmith langchain_google_genai"
      ]
    },
    {
      "cell_type": "code",
      "source": [
        "import getpass\n",
        "import os\n",
        "\n",
        "# Set your Anthropic API key\n",
        "os.environ[\"ANTHROPIC_API_KEY\"] = getpass.getpass()"
      ],
      "metadata": {
        "id": "aw9453mxY2GZ"
      },
      "execution_count": null,
      "outputs": []
    },
    {
      "cell_type": "code",
      "source": [
        "# Set your Google API key\n",
        "os.environ[\"GOOGLE_API_KEY\"] = getpass.getpass()"
      ],
      "metadata": {
        "id": "2v_MxnhPHon2"
      },
      "execution_count": null,
      "outputs": []
    },
    {
      "cell_type": "code",
      "source": [
        "# You can get an API key here https://financialdatasets.ai/\n",
        "os.environ[\"FINANCIAL_DATASETS_API_KEY\"] = getpass.getpass()"
      ],
      "metadata": {
        "id": "wLgG34qXylsg"
      },
      "execution_count": null,
      "outputs": []
    },
    {
      "cell_type": "code",
      "source": [
        "# You can create an API key here https://smith.langchain.com/settings\n",
        "os.environ[\"LANGCHAIN_TRACING_V2\"] = \"True\"\n",
        "os.environ[\"LANGCHAIN_API_KEY\"] = getpass.getpass()"
      ],
      "metadata": {
        "id": "iqE_pMaMETeZ"
      },
      "execution_count": null,
      "outputs": []
    },
    {
      "cell_type": "markdown",
      "source": [
        "# Define the tools our agent can use"
      ],
      "metadata": {
        "id": "bqtPnq2Q7LKA"
      }
    },
    {
      "cell_type": "code",
      "source": [
        "from langchain_core.tools import tool\n",
        "\n",
        "\n",
        "@tool\n",
        "def roe(\n",
        "    net_income: float,\n",
        "    equity: float,\n",
        ") -> float:\n",
        "    \"\"\"\n",
        "    Computes the return on equity (ROE) for a given company.\n",
        "    Use this function to evaluate the profitability of a company.\n",
        "    \"\"\"\n",
        "    return net_income / equity\n",
        "\n",
        "\n",
        "@tool\n",
        "def roic(\n",
        "    operating_income: float,\n",
        "    total_debt: float,\n",
        "    equity: float,\n",
        "    cash_and_equivalents: float,\n",
        "    tax_rate: float = 0.35,\n",
        ") -> float:\n",
        "    \"\"\"\n",
        "    Computes the return on invested capital (ROIC) for a given company.\n",
        "    Use this function to evaluate the efficiency of a company in generating returns from its capital.\n",
        "    \"\"\"\n",
        "    net_operating_profit_after_tax = operating_income * (1 - tax_rate)\n",
        "    invested_capital = total_debt + equity - cash_and_equivalents\n",
        "    return net_operating_profit_after_tax / invested_capital\n",
        "\n",
        "\n",
        "@tool\n",
        "def owner_earnings(\n",
        "    net_income: float,\n",
        "    depreciation_amortization: float = 0.0,\n",
        "    capital_expenditures: float = 0.0\n",
        "):\n",
        "    \"\"\"\n",
        "    Calculates the owner earnings for a company based on the net income, depreciation/amortization, and capital expenditures.\n",
        "    \"\"\"\n",
        "    return net_income + depreciation_amortization - capital_expenditures\n",
        "\n",
        "\n",
        "@tool\n",
        "def intrinsic_value(\n",
        "    free_cash_flow: float,\n",
        "    growth_rate: float = 0.05,\n",
        "    discount_rate: float = 0.10,\n",
        "    terminal_growth_rate: float = 0.02,\n",
        "    num_years: int = 5,\n",
        ") -> float:\n",
        "    \"\"\"\n",
        "    Computes the discounted cash flow (DCF) for a given company based on the current free cash flow.\n",
        "    Use this function to calculate the intrinsic value of a stock.\n",
        "    \"\"\"\n",
        "    # Estimate the future cash flows based on the growth rate\n",
        "    cash_flows = [free_cash_flow * (1 + growth_rate) ** i for i in range(num_years)]\n",
        "\n",
        "    # Calculate the present value of projected cash flows\n",
        "    present_values = []\n",
        "    for i in range(num_years):\n",
        "        present_value = cash_flows[i] / (1 + discount_rate) ** (i + 1)\n",
        "        present_values.append(present_value)\n",
        "\n",
        "    # Calculate the terminal value\n",
        "    terminal_value = cash_flows[-1] * (1 + terminal_growth_rate) / (discount_rate - terminal_growth_rate)\n",
        "    terminal_present_value = terminal_value / (1 + discount_rate) ** num_years\n",
        "\n",
        "    # Sum up the present values and terminal value\n",
        "    dcf_value = sum(present_values) + terminal_present_value\n",
        "\n",
        "    return dcf_value"
      ],
      "metadata": {
        "id": "inc3sZdzsmQ-"
      },
      "execution_count": null,
      "outputs": []
    },
    {
      "cell_type": "code",
      "source": [
        "from langgraph.prebuilt import ToolNode\n",
        "\n",
        "from langchain_community.tools import IncomeStatements, BalanceSheets, CashFlowStatements\n",
        "from langchain_community.utilities.financial_datasets import FinancialDatasetsAPIWrapper\n",
        "\n",
        "# Create the tools\n",
        "api_wrapper = FinancialDatasetsAPIWrapper()\n",
        "integration_tools = [\n",
        "    IncomeStatements(api_wrapper=api_wrapper),\n",
        "    BalanceSheets(api_wrapper=api_wrapper),\n",
        "    CashFlowStatements(api_wrapper=api_wrapper),\n",
        "]\n",
        "\n",
        "local_tools = [intrinsic_value, roe, roic, owner_earnings]\n",
        "tools = integration_tools + local_tools\n",
        "\n",
        "tool_node = ToolNode(tools)"
      ],
      "metadata": {
        "id": "mczr2sUEVdYv"
      },
      "execution_count": null,
      "outputs": []
    },
    {
      "cell_type": "markdown",
      "source": [
        "# Set up the LLM"
      ],
      "metadata": {
        "id": "ABtfJlkWWs_9"
      }
    },
    {
      "cell_type": "code",
      "source": [
        "from langchain.tools.render import format_tool_to_openai_function\n",
        "from langchain_anthropic.chat_models import ChatAnthropic\n",
        "from langchain_google_genai import ChatGoogleGenerativeAI\n",
        "\n",
        "gemini = ChatGoogleGenerativeAI(model=\"gemini-1.5-flash-latest\")\n",
        "# Choose the LLM that will drive the agent\n",
        "model = ChatAnthropic(model=\"claude-3-5-sonnet-20240620\", temperature=0).bind_tools(tools)"
      ],
      "metadata": {
        "id": "1Z05n9jgXB02"
      },
      "execution_count": null,
      "outputs": []
    },
    {
      "cell_type": "code",
      "source": [
        "from langchain_core.messages import SystemMessage\n",
        "\n",
        "system_prompt = \"\"\"\n",
        "You are an AI financial analyst with expertise in analyzing businesses using methods similar to those of Warren Buffett. Your task is to provide short, accurate, and concise answers to questions about company financials and performance.\n",
        "\n",
        "Here are a few example questions and answers\n",
        "Example 1: {\n",
        "  \"question\": \"What was NVDA's net income for the fiscal year 2023?\",\n",
        "  \"answer\": \"The net income for NVDA in 2023 was $2.8 billion.\",\n",
        "}\n",
        "\n",
        "Example 2: {\n",
        "  \"question\": \"How did NVDA's gross profit in 2023 compare to its gross profit in 2022?\",\n",
        "  \"answer\": \"In 2023, NVDA's gross profit increased by 12% compared to 2022.\",\n",
        "}\n",
        "\n",
        "Example 3: {\n",
        "  \"question\": \"What was NVDA's revenue for the first quarter of 2024?\",\n",
        "  \"answer\": \"NVDA's revenue for the first quarter of 2024 was $5.6 billion.\",\n",
        "},\n",
        "\n",
        "Analyze these examples carefully. Notice how the answers are concise, specific, and directly address the questions asked. They provide precise financial figures and, when applicable, comparative analysis.\n",
        "\n",
        "When answering questions:\n",
        "1. Focus on providing accurate financial data and insights.\n",
        "2. Use specific numbers and percentages when available.\n",
        "3. Make comparisons between different time periods if relevant.\n",
        "4. Keep your answers short, concise, and to the point.\n",
        "\n",
        "Important: You must be short and concise with your answers.\n",
        "\"\"\""
      ],
      "metadata": {
        "id": "kvoEiwmL2zGY"
      },
      "execution_count": null,
      "outputs": []
    },
    {
      "cell_type": "markdown",
      "source": [
        "# Define the agent state"
      ],
      "metadata": {
        "id": "-1QmeRXMXOpk"
      }
    },
    {
      "cell_type": "code",
      "source": [
        "from typing import TypedDict, Annotated, Sequence\n",
        "import operator\n",
        "from langchain_core.messages import BaseMessage\n",
        "\n",
        "class AgentState(TypedDict):\n",
        "    messages: Annotated[Sequence[BaseMessage], operator.add]"
      ],
      "metadata": {
        "id": "pdiItye3XRnC"
      },
      "execution_count": null,
      "outputs": []
    },
    {
      "cell_type": "markdown",
      "source": [
        "# Define the nodes"
      ],
      "metadata": {
        "id": "Nkx5fvUE7Hjz"
      }
    },
    {
      "cell_type": "code",
      "source": [
        "from typing import Literal\n",
        "from langgraph.graph import END, StateGraph, MessagesState\n",
        "\n",
        "\n",
        "# Define the function that determines whether to continue or not\n",
        "def should_continue(state: MessagesState) -> Literal[\"tools\", END]:\n",
        "    messages = state['messages']\n",
        "    last_message = messages[-1]\n",
        "    # If the LLM makes a tool call, then we route to the \"tools\" node\n",
        "    if last_message.tool_calls:\n",
        "        return \"tools\"\n",
        "    # Otherwise, we stop (reply to the user)\n",
        "    return END\n",
        "\n",
        "# Define the function that calls the model\n",
        "def call_model(state: MessagesState):\n",
        "    prompt = SystemMessage(\n",
        "        content=system_prompt\n",
        "    )\n",
        "    # Get the messages\n",
        "    messages = state['messages']\n",
        "\n",
        "    # Check if first message in messages is the prompt\n",
        "    if messages and messages[0].content != system_prompt:\n",
        "        # Add the prompt to the start of the message\n",
        "        messages.insert(0, prompt)\n",
        "\n",
        "    # Call the model\n",
        "    response = model.invoke(messages)\n",
        "    # We return a list, because this will get added to the existing list\n",
        "    return {\"messages\": [response]}"
      ],
      "metadata": {
        "id": "nTW70qJEV6-A"
      },
      "execution_count": null,
      "outputs": []
    },
    {
      "cell_type": "markdown",
      "source": [
        "# Define the graph"
      ],
      "metadata": {
        "id": "WslINdsq7FWq"
      }
    },
    {
      "cell_type": "code",
      "source": [
        "from langgraph.checkpoint.memory import MemorySaver\n",
        "\n",
        "# Define a new graph\n",
        "workflow = StateGraph(MessagesState)\n",
        "\n",
        "# Define the two nodes we will cycle between\n",
        "workflow.add_node(\"agent\", call_model)\n",
        "workflow.add_node(\"tools\", tool_node)\n",
        "\n",
        "# Set the entrypoint as `agent`\n",
        "# This means that this node is the first one called\n",
        "workflow.set_entry_point(\"agent\")\n",
        "\n",
        "# We now add a conditional edge\n",
        "workflow.add_conditional_edges(\n",
        "    # First, we define the start node. We use `agent`.\n",
        "    # This means these are the edges taken after the `agent` node is called.\n",
        "    \"agent\",\n",
        "    # Next, we pass in the function that will determine which node is called next.\n",
        "    should_continue,\n",
        ")\n",
        "\n",
        "# We now add a normal edge from `tools` to `agent`.\n",
        "# This means that after `tools` is called, `agent` node is called next.\n",
        "workflow.add_edge(\"tools\", 'agent')\n",
        "\n",
        "# Initialize memory to persist state between graph runs\n",
        "checkpointer = MemorySaver()\n",
        "\n",
        "# Finally, we compile it!\n",
        "# This compiles it into a LangChain Runnable,\n",
        "# meaning you can use it as you would any other runnable.\n",
        "# Note that we're (optionally) passing the memory when compiling the graph\n",
        "app = workflow.compile()"
      ],
      "metadata": {
        "id": "xK5euZ6UWAhq"
      },
      "execution_count": null,
      "outputs": []
    },
    {
      "cell_type": "markdown",
      "source": [
        "# Run the financial agent"
      ],
      "metadata": {
        "id": "EQOLvjF7XvZR"
      }
    },
    {
      "cell_type": "code",
      "source": [
        "from langchain_core.messages import HumanMessage\n",
        "\n",
        "# Use the Runnable\n",
        "final_state = app.invoke(\n",
        "    # {\"messages\": [HumanMessage(content=\"What is NVDA's intrinsic value given a discount rate of 5%, growth rate of 10%, terminal growth rate of 3%?\")]},\n",
        "    {\"messages\": [HumanMessage(content=\"What was AAPL's revenue in FY 2023?\")]},\n",
        "    config={\"configurable\": {\"thread_id\": 42}}\n",
        ")\n",
        "final_state[\"messages\"][-1].content"
      ],
      "metadata": {
        "id": "BDiXx__hpilI"
      },
      "execution_count": null,
      "outputs": []
    },
    {
      "cell_type": "markdown",
      "source": [
        "# Create dataset of questions"
      ],
      "metadata": {
        "id": "RXsw7LKCy5BZ"
      }
    },
    {
      "cell_type": "code",
      "source": [
        "questions = [\n",
        "    {\n",
        "        \"question\": \"What was AAPL's revenue in the fiscal year ending September 30, 2023?\",\n",
        "        \"answer\": \"$383,285,000,000\",\n",
        "        \"context\": \"The revenue for AAPL in the fiscal year ending September 30, 2023 was 383285000000.0.\"\n",
        "    },\n",
        "    {\n",
        "        \"question\": \"How much did AAPL spend on research and development in 2023?\",\n",
        "        \"answer\": \"$29,915,000,000\",\n",
        "        \"context\": \"The research and development expense for AAPL in 2023 was 29915000000.0.\"\n",
        "    },\n",
        "    {\n",
        "        \"question\": \"What was AAPL's net income in the fiscal year 2023?\",\n",
        "        \"answer\": \"$96,995,000,000\",\n",
        "        \"context\": \"The net income for AAPL in the fiscal year 2023 was 96995000000.0.\"\n",
        "    },\n",
        "    {\n",
        "        \"question\": \"What was AAPL's earnings per share (diluted) in 2023?\",\n",
        "        \"answer\": \"$6.13\",\n",
        "        \"context\": \"The earnings per share diluted for AAPL in 2023 was 6.13.\"\n",
        "    },\n",
        "    {\n",
        "        \"question\": \"How much did AAPL pay in dividends per common share in 2023?\",\n",
        "        \"answer\": \"$0.94\",\n",
        "        \"context\": \"The dividends per common share for AAPL in 2023 was 0.94.\"\n",
        "    },\n",
        "    {\n",
        "        \"question\": \"What was AAPL's gross profit in the fiscal year 2022?\",\n",
        "        \"answer\": \"$170,782,000,000\",\n",
        "        \"context\": \"The gross profit for AAPL in the fiscal year 2022 was 170782000000.0.\"\n",
        "    },\n",
        "    {\n",
        "        \"question\": \"How much was AAPL's operating income in 2021?\",\n",
        "        \"answer\": \"$108,949,000,000\",\n",
        "        \"context\": \"The operating income for AAPL in 2021 was 108949000000.0.\"\n",
        "    },\n",
        "    {\n",
        "        \"question\": \"What was AAPL's revenue in the fiscal year 2020?\",\n",
        "        \"answer\": \"$274,515,000,000\",\n",
        "        \"context\": \"The revenue for AAPL in the fiscal year 2020 was 274515000000.0.\"\n",
        "    },\n",
        "    {\n",
        "        \"question\": \"How much did AAPL spend on selling, general, and administrative expenses in 2019?\",\n",
        "        \"answer\": \"$18,245,000,000\",\n",
        "        \"context\": \"The selling, general, and administrative expenses for AAPL in 2019 was 18245000000.0.\"\n",
        "    },\n",
        "    {\n",
        "        \"question\": \"What was AAPL's interest expense in the fiscal year 2018?\",\n",
        "        \"answer\": \"$3,240,000,000\",\n",
        "        \"context\": \"The interest expense for AAPL in the fiscal year 2018 was 3240000000.0.\"\n",
        "    },\n",
        "    {\n",
        "        \"question\": \"What was TSLA's total assets value as of December 31, 2023?\",\n",
        "        \"answer\": \"$106,618,000,000\",\n",
        "        \"context\": \"The total assets for TSLA as of December 31, 2023 was 106618000000.0.\"\n",
        "    },\n",
        "    {\n",
        "        \"question\": \"Calculate TSLA's current ratio for the year 2023.\",\n",
        "        \"answer\": \"1.73\",\n",
        "        \"context\": \"Current ratio = Current assets / Current liabilities. For 2023, Current assets = 49616000000.0, Current liabilities = 28748000000.0. 49616000000.0 / 28748000000.0 ≈ 1.73\"\n",
        "    },\n",
        "    {\n",
        "        \"question\": \"What was the year-over-year growth rate of TSLA's property, plant, and equipment from 2022 to 2023?\",\n",
        "        \"answer\": \"23.17%\",\n",
        "        \"context\": \"2022 PP&E: 36635000000.0, 2023 PP&E: 45123000000.0. Growth rate = (45123000000.0 - 36635000000.0) / 36635000000.0 * 100 ≈ 23.17%\"\n",
        "    },\n",
        "    {\n",
        "        \"question\": \"Calculate TSLA's debt-to-equity ratio for 2023.\",\n",
        "        \"answer\": \"0.08\",\n",
        "        \"context\": \"Debt-to-equity ratio = Total debt / Shareholders' equity. For 2023, Total debt = 5230000000.0, Shareholders' equity = 62634000000.0. 5230000000.0 / 62634000000.0 ≈ 0.08\"\n",
        "    },\n",
        "    {\n",
        "        \"question\": \"What was the percentage increase in TSLA's inventory from 2022 to 2023?\",\n",
        "        \"answer\": \"6.13%\",\n",
        "        \"context\": \"2022 inventory: 12839000000.0, 2023 inventory: 13626000000.0. Percentage increase = (13626000000.0 - 12839000000.0) / 12839000000.0 * 100 ≈ 6.13%\"\n",
        "    },\n",
        "    {\n",
        "        \"question\": \"Calculate the working capital for TSLA in 2023.\",\n",
        "        \"answer\": \"$20,868,000,000\",\n",
        "        \"context\": \"Working capital = Current assets - Current liabilities. For 2023, Current assets = 49616000000.0, Current liabilities = 28748000000.0. 49616000000.0 - 28748000000.0 = 20868000000.0\"\n",
        "    },\n",
        "    {\n",
        "        \"question\": \"What was TSLA's quick ratio (acid-test ratio) for 2023?\",\n",
        "        \"answer\": \"1.25\",\n",
        "        \"context\": \"Quick ratio = (Current assets - Inventory) / Current liabilities. For 2023, (49616000000.0 - 13626000000.0) / 28748000000.0 ≈ 1.25\"\n",
        "    },\n",
        "    {\n",
        "        \"question\": \"Calculate the year-over-year growth rate of TSLA's total liabilities from 2022 to 2023.\",\n",
        "        \"answer\": \"18.03%\",\n",
        "        \"context\": \"2022 total liabilities: 36440000000.0, 2023 total liabilities: 43009000000.0. Growth rate = (43009000000.0 - 36440000000.0) / 36440000000.0 * 100 ≈ 18.03%\"\n",
        "    },\n",
        "    {\n",
        "        \"question\": \"What was the book value per share for TSLA at the end of 2023?\",\n",
        "        \"answer\": \"$19.70\",\n",
        "        \"context\": \"Book value per share = Shareholders' equity / Outstanding shares. For 2023, 62634000000.0 / 3178921391.0 ≈ 19.70\"\n",
        "    },\n",
        "    {\n",
        "        \"question\": \"Calculate the percentage change in TSLA's cash and equivalents from 2022 to 2023.\",\n",
        "        \"answer\": \"0.89%\",\n",
        "        \"context\": \"2022 cash and equivalents: 16253000000.0, 2023 cash and equivalents: 16398000000.0. Percentage change = (16398000000.0 - 16253000000.0) / 16253000000.0 * 100 ≈ 0.89%\"\n",
        "    },\n",
        "    {\n",
        "        \"question\": \"Calculate the year-over-year growth rate of MSFT's net cash flow from operations from FY 2023 to FY 2024.\",\n",
        "        \"answer\": \"35.36%\",\n",
        "        \"context\": \"FY 2023 net cash flow from operations: 87582000000.0, FY 2024: 118548000000.0. Growth rate = (118548000000.0 - 87582000000.0) / 87582000000.0 * 100 ≈ 35.36%\"\n",
        "    },\n",
        "    {\n",
        "        \"question\": \"What was MSFT's free cash flow for the fiscal year 2024?\",\n",
        "        \"answer\": \"$74,071,000,000\",\n",
        "        \"context\": \"Free cash flow = Net cash flow from operations - Capital expenditure. For FY 2024: 118548000000.0 - 44477000000.0 = 74071000000.0\"\n",
        "    },\n",
        "    {\n",
        "        \"question\": \"Calculate the cash flow to capital expenditure ratio for MSFT in FY 2024.\",\n",
        "        \"answer\": \"2.67\",\n",
        "        \"context\": \"Cash flow to capital expenditure ratio = Net cash flow from operations / Capital expenditure. For FY 2024: 118548000000.0 / 44477000000.0 ≈ 2.67\"\n",
        "    },\n",
        "    {\n",
        "        \"question\": \"What percentage of MSFT's net cash flow from operations was spent on dividends in FY 2024?\",\n",
        "        \"answer\": \"18.37%\",\n",
        "        \"context\": \"Dividends: 21771000000.0, Net cash flow from operations: 118548000000.0. Percentage = (21771000000.0 / 118548000000.0) * 100 ≈ 18.37%\"\n",
        "    },\n",
        "    {\n",
        "        \"question\": \"Calculate the year-over-year growth rate of MSFT's capital expenditure from FY 2023 to FY 2024.\",\n",
        "        \"answer\": \"58.24%\",\n",
        "        \"context\": \"FY 2023 capital expenditure: 28107000000.0, FY 2024: 44477000000.0. Growth rate = (44477000000.0 - 28107000000.0) / 28107000000.0 * 100 ≈ 58.24%\"\n",
        "    },\n",
        "    {\n",
        "        \"question\": \"What was the cash flow coverage ratio for MSFT in FY 2024?\",\n",
        "        \"answer\": \"5.45\",\n",
        "        \"context\": \"Cash flow coverage ratio = Net cash flow from operations / (Dividends + Capital expenditure). For FY 2024: 118548000000.0 / (21771000000.0 + 44477000000.0) ≈ 5.45\"\n",
        "    },\n",
        "    {\n",
        "        \"question\": \"Calculate the cash flow return on assets for MSFT in FY 2024, assuming total assets of $450 billion at the end of the fiscal year.\",\n",
        "        \"answer\": \"26.34%\",\n",
        "        \"context\": \"Cash flow return on assets = Net cash flow from operations / Total assets. For FY 2024: (118548000000.0 / 450000000000) * 100 ≈ 26.34%\"\n",
        "    },\n",
        "    {\n",
        "        \"question\": \"What was the cash flow to debt ratio for MSFT in FY 2024, assuming total debt of $80 billion at the end of the fiscal year?\",\n",
        "        \"answer\": \"1.48\",\n",
        "        \"context\": \"Cash flow to debt ratio = Net cash flow from operations / Total debt. For FY 2024: 118548000000.0 / 80000000000 ≈ 1.48\"\n",
        "    },\n",
        "    {\n",
        "        \"question\": \"Calculate the compound annual growth rate (CAGR) of MSFT's net cash flow from operations from FY 2020 to FY 2024.\",\n",
        "        \"answer\": \"18.24%\",\n",
        "        \"context\": \"FY 2020: 60675000000.0, FY 2024: 118548000000.0. CAGR = (118548000000.0 / 60675000000.0)^(1/4) - 1 ≈ 18.24%\"\n",
        "    },\n",
        "    {\n",
        "        \"question\": \"What percentage of MSFT's net cash flow from operations was used for share repurchases in FY 2024?\",\n",
        "        \"answer\": \"12.87%\",\n",
        "        \"context\": \"Share repurchases (issuance or purchase of equity shares): 15252000000.0, Net cash flow from operations: 118548000000.0. Percentage = (15252000000.0 / 118548000000.0) * 100 ≈ 12.87%\"\n",
        "    }\n",
        "]"
      ],
      "metadata": {
        "id": "q9-0osvkIIBr"
      },
      "execution_count": null,
      "outputs": []
    },
    {
      "cell_type": "markdown",
      "source": [
        "# Visualize dataset"
      ],
      "metadata": {
        "id": "L4R_JqOH0E8V"
      }
    },
    {
      "cell_type": "code",
      "source": [
        "import pandas as pd\n",
        "\n",
        "# Convert to DataFrame and display\n",
        "df = pd.DataFrame([question for question in questions])\n",
        "print(\"\\nDataFrame:\")\n",
        "display(df)"
      ],
      "metadata": {
        "id": "gTepRPjb0Xj-"
      },
      "execution_count": null,
      "outputs": []
    },
    {
      "cell_type": "markdown",
      "source": [
        "# Create dataset in LangSmith"
      ],
      "metadata": {
        "id": "uWdesmjXFSfA"
      }
    },
    {
      "cell_type": "code",
      "source": [
        "inputs = []\n",
        "outputs = []\n",
        "\n",
        "for row in questions:\n",
        "  question = row[\"question\"]\n",
        "  answer = row[\"answer\"]\n",
        "  inputs.append(question)\n",
        "  outputs.append(answer)"
      ],
      "metadata": {
        "id": "26KynkgAFdZc"
      },
      "execution_count": null,
      "outputs": []
    },
    {
      "cell_type": "code",
      "source": [
        "from langsmith import Client\n",
        "\n",
        "# Create dataset\n",
        "client = Client()\n",
        "dataset_name = \"warren-buffett-agent-test-0.0.4\"\n",
        "dataset = client.create_dataset(\n",
        "    dataset_name=dataset_name,\n",
        "    description=\"QA pairs for financial evaluation\",\n",
        ")\n",
        "client.create_examples(\n",
        "    inputs=[{\"question\": q} for q in inputs],\n",
        "    outputs=[{\"answer\": a} for a in outputs],\n",
        "    dataset_id=dataset.id,\n",
        ")"
      ],
      "metadata": {
        "id": "12a8tdCwFUPh"
      },
      "execution_count": null,
      "outputs": []
    },
    {
      "cell_type": "markdown",
      "source": [
        "# Evaluate"
      ],
      "metadata": {
        "id": "N9sg6fXw0dd-"
      }
    },
    {
      "cell_type": "code",
      "source": [
        "def predict_answer(example: dict):\n",
        "    \"\"\"Use this for answer evaluation\"\"\"\n",
        "    question = example.get(\"question\")\n",
        "\n",
        "    final_state = app.invoke(\n",
        "      {\"messages\": [HumanMessage(content=question)]},\n",
        "      config={\"configurable\": {\"thread_id\": 42}}\n",
        "    )\n",
        "    answer = final_state[\"messages\"][-1].content\n",
        "    return {\"answer\": answer}"
      ],
      "metadata": {
        "id": "TwWI6I9bEynD"
      },
      "execution_count": null,
      "outputs": []
    },
    {
      "cell_type": "code",
      "source": [
        "from langsmith.evaluation import LangChainStringEvaluator, evaluate\n",
        "\n",
        "eval_llm = ChatAnthropic(temperature=0.0, model=\"claude-3-5-sonnet-20240620\")\n",
        "\n",
        "# Evaluator\n",
        "qa_evalulator = [\n",
        "    LangChainStringEvaluator(\n",
        "        \"qa\",\n",
        "        prepare_data=lambda run, example: {\n",
        "            \"prediction\": run.outputs[\"answer\"],\n",
        "            \"reference\": example.outputs[\"answer\"],\n",
        "            \"input\": example.inputs[\"question\"],\n",
        "        },\n",
        "        config={\"llm\": eval_llm}\n",
        "      ),\n",
        "]\n",
        "experiment_results = evaluate(\n",
        "    predict_answer,\n",
        "    data=dataset_name,\n",
        "    evaluators=qa_evalulator,\n",
        "    experiment_prefix=\"financial-rag-qa\",\n",
        "    metadata={\n",
        "      \"version\": \"1.0.0\",\n",
        "      \"revision_id\": \"beta\"\n",
        "    },\n",
        ")"
      ],
      "metadata": {
        "id": "2725a__9FL9s"
      },
      "execution_count": null,
      "outputs": []
    },
    {
      "cell_type": "code",
      "source": [],
      "metadata": {
        "id": "tr8Nz3vsGvrY"
      },
      "execution_count": null,
      "outputs": []
    }
  ]
}